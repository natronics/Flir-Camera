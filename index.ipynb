{
 "cells": [
  {
   "cell_type": "markdown",
   "metadata": {},
   "source": [
    "# FLiR Camera\n",
    "\n",
    "Playing with the\n",
    "[FLiR Lepton<sup>®</sup> LWIR module dev kit](https://www.sparkfun.com/products/13233)."
   ]
  },
  {
   "cell_type": "code",
   "execution_count": null,
   "metadata": {
    "collapsed": false
   },
   "outputs": [],
   "source": [
    "# dependencies\n",
    "import matplotlib.pyplot as plt\n",
    "from matplotlib.pyplot import cm #colomaps\n",
    "import numpy as np\n",
    "from scipy import ndimage\n",
    "%matplotlib inline"
   ]
  },
  {
   "cell_type": "code",
   "execution_count": null,
   "metadata": {
    "collapsed": false
   },
   "outputs": [],
   "source": [
    "with open('images/wave.pgm') as f:\n",
    "    lines = f.readlines()[3:-2]\n",
    "    data = np.array([line.split() for line in lines[1:]], dtype=np.int16).T\n",
    "    \n",
    "fig, ax1 = plt.subplots(figsize=(8,8))\n",
    "plt.title(r\"Image\")\n",
    "\n",
    "img = ax1.imshow(ndimage.rotate(data, -90.00), cm.spectral, interpolation=\"nearest\")\n",
    "cbaxes = fig.add_axes([0.91, 0.23, 0.03, 0.56]) \n",
    "cbar = plt.colorbar(img, cax=cbaxes)\n",
    "cbar.ax.set_ylabel(r'Value')\n",
    "\n",
    "#plt.axis('off')\n",
    "plt.show()"
   ]
  },
  {
   "cell_type": "markdown",
   "metadata": {},
   "source": [
    "--------------------------------------------------------------------------------------\n",
    "\n",
    "This article was written in\n",
    "[Jupyter Notebooks](http://jupyter.org/).\n",
    "[View the original document](http://nbviewer.jupyter.org/github/natronics/Flir-Camera/blob/gh-pages/index.ipynb) or download the raw file:\n",
    "[index.ipynb](https://raw.githubusercontent.com/natronics/Flir-Camera/gh-pages/index.ipynb)\n",
    "\n",
    "Did I make a mistake? Have something to add? You can\n",
    "[create an issue](https://github.com/natronics/Flir-Camera/issues)\n",
    ", or\n",
    "[build this page yourself](https://github.com/natronics/Flir-Camera/blob/gh-pages/README.markdown)\n",
    "and\n",
    "[send a pull request](https://help.github.com/categories/collaborating-on-projects-using-pull-requests/).\n",
    "\n",
    "<a rel=\"license\" href=\"https://creativecommons.org/licenses/by-nc/4.0/\"><img class=\"wrap\" alt=\"Creative Commons License\" style=\"border-width:0\" src=\"https://i.creativecommons.org/l/by-nc/4.0/80x15.png\" /></a> &nbsp; This <span xmlns:dct=\"https://purl.org/dc/terms/\" href=\"https://purl.org/dc/dcmitype/InteractiveResource\" rel=\"dct:type\">work</span> by <a xmlns:cc=\"https://creativecommons.org/ns#\" href=\"https://github.com/natronics\" property=\"cc:attributionName\" rel=\"cc:attributionURL\">natronics</a> is licensed under a <a rel=\"license\" href=\"https://creativecommons.org/licenses/by-nc/4.0/\">Creative Commons Attribution-NonCommercial 4.0 International License</a>.\n",
    "\n",
    "## Footnotes"
   ]
  }
 ],
 "metadata": {
  "kernelspec": {
   "display_name": "Python 2",
   "language": "python",
   "name": "python2"
  },
  "language_info": {
   "codemirror_mode": {
    "name": "ipython",
    "version": 2
   },
   "file_extension": ".py",
   "mimetype": "text/x-python",
   "name": "python",
   "nbconvert_exporter": "python",
   "pygments_lexer": "ipython2",
   "version": "2.7.10+"
  }
 },
 "nbformat": 4,
 "nbformat_minor": 0
}
